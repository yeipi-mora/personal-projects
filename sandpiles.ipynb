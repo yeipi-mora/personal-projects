{
  "nbformat": 4,
  "nbformat_minor": 0,
  "metadata": {
    "colab": {
      "provenance": [],
      "authorship_tag": "ABX9TyMb6y7HcOuoXf2j2+yTCsbv",
      "include_colab_link": true
    },
    "kernelspec": {
      "name": "python3",
      "display_name": "Python 3"
    },
    "language_info": {
      "name": "python"
    }
  },
  "cells": [
    {
      "cell_type": "markdown",
      "metadata": {
        "id": "view-in-github",
        "colab_type": "text"
      },
      "source": [
        "<a href=\"https://colab.research.google.com/github/yeipi-mora/python_codes/blob/main/sandpiles.ipynb\" target=\"_parent\"><img src=\"https://colab.research.google.com/assets/colab-badge.svg\" alt=\"Open In Colab\"/></a>"
      ]
    },
    {
      "cell_type": "code",
      "source": [
        "# Libraries\n",
        "import numpy as np"
      ],
      "metadata": {
        "id": "TN9uS9YQNSf4"
      },
      "execution_count": 1,
      "outputs": []
    },
    {
      "cell_type": "code",
      "execution_count": 3,
      "metadata": {
        "id": "sXyhAaIWm5eC"
      },
      "outputs": [],
      "source": [
        "'''\n",
        "  Several functions to deal with topplings and stabilization of\n",
        "  grid graphs.\n",
        "'''\n",
        "\n",
        "def topple_grid(S: np.array, A: np.array, T: np.array, x: int, y: int):\n",
        "    '''\n",
        "     Fire a single site in S once\n",
        "     i.e. increment odometer\n",
        "     remove chips from S[x, y]\n",
        "     and give chips to neighbors\n",
        "     (x+1, y), (x-1, y), (x, y+1), (x, y-1)\n",
        "\n",
        "     Returns True if we have toppled and False other case\n",
        "    '''\n",
        "    # Number of times fire site (x, y)\n",
        "    # We take max in case there is a hole at (x, y)\n",
        "    z = max(np.floor(S[x, y] / 4), 0)\n",
        "\n",
        "    # Increment the odometer\n",
        "    T[x, y] += z\n",
        "    S[x, y] -= 4 * z\n",
        "\n",
        "    # Give sand to each neighbor\n",
        "    if x > 0:\n",
        "        S[x - 1, y] += z\n",
        "    if x < S.shape[0] - 1:\n",
        "        S[x + 1, y] += z\n",
        "    if y > 0:\n",
        "        S[x, y - 1] += z\n",
        "    if y < S.shape[1] - 1:\n",
        "        S[x, y + 1] += z\n",
        "\n",
        "    return z > 0\n",
        "\n",
        "def stabilize_grid(S: np.array):\n",
        "    # Initialize the all 0 odometer\n",
        "    T = np.zeros_like(S)\n",
        "    # Iterate over all sites and try to topple\n",
        "    # until it is not possible anymore\n",
        "    is_topple = True\n",
        "    while is_topple:\n",
        "        is_topple = False\n",
        "        for y in range(S.shape[1]):\n",
        "            for x in range(S.shape[0]):\n",
        "                is_topple = is_topple or topple_grid(S, T, x, y)\n",
        "    return T\n",
        "\n",
        "def random_config_grid(N: int):\n",
        "  # Maximmum value of grains we place in one grid\n",
        "  high = 1000*N\n",
        "  # Create a random configuration S of size N x N\n",
        "  S = np.random.randint(low=0, high=high, size=(N, N))\n",
        "\n",
        "  while True:\n",
        "      # Pick a random vertex and add one grain\n",
        "      random_vertex = (np.random.randint(0, high), np.random.randint(0, high))\n",
        "      S[random_vertex] += 1\n",
        "\n",
        "      T = stabilize_grid(S)"
      ]
    },
    {
      "cell_type": "code",
      "source": [
        "'''\n",
        "  Several functions to deal with topplings and stabilization of\n",
        "  general graphs.\n",
        "'''\n",
        "\n",
        "def topple(A: np.ndarray, c: list, v: int):\n",
        "\n",
        "  '''\n",
        "    We will topple a graph G represented by adjacency matrix\n",
        "    Inputs:\n",
        "      - A: configuration of grains\n",
        "      - c: adjacency matrix\n",
        "      - v: vertex that we will topple\n",
        "\n",
        "      Return:\n",
        "        - We return a True statement if we topple v. False in other case.\n",
        "  '''\n",
        "\n",
        "  # Number of neighbors of v.\n",
        "  n = np.sum(A[v])\n",
        "  grains = c[v]\n",
        "\n",
        "  if c[v] >= n:\n",
        "    for w in range(len(A)):\n",
        "      if c[v] >= n and A[v][w] != 0:\n",
        "        c[w] += 1\n",
        "        c[v] -= 1\n",
        "      elif c[v] < n: break\n",
        "  return grains >= n\n",
        "\n",
        "def stabilize(A: np.ndarray, c: list):\n",
        "  '''\n",
        "    We stabilize a graph G represented by its adjacency matrix A.\n",
        "\n",
        "    Inputs:\n",
        "      - A: configuration of grains\n",
        "      - c: adjacency matrix\n",
        "    Output:\n",
        "      - We return the stable configuration\n",
        "  '''\n",
        "  # Iterate over all sites and try to topple\n",
        "  # until it is not possible anymore\n",
        "  is_topple = True\n",
        "  while is_topple:\n",
        "      is_topple = False\n",
        "      for v in range(len(A)):\n",
        "          is_topple = is_topple or topple(A,c,v)\n",
        "  return c\n",
        "\n",
        "def evolutive(A: dict, c: list):\n",
        "  '''\n",
        "    We stabilize over a discrete evolution of graphs\n",
        "    Inputs:\n",
        "      - A: a dictionary to stores each graph G_{t} (represented by its adjacency matrix A_{t}).\n",
        "      A key of A corresponds to the discrete time t.\n",
        "      - c: an initial configuration.\n",
        "  '''\n",
        "  for t in A.keys():\n",
        "    stabilize(A[t],c)"
      ],
      "metadata": {
        "id": "4JEKvRNIX_Kd"
      },
      "execution_count": 77,
      "outputs": []
    },
    {
      "cell_type": "code",
      "source": [
        "graph = [\n",
        "    [0, 1, 1, 0],\n",
        "    [1, 0, 1, 1],\n",
        "    [1, 1, 0, 1],\n",
        "    [0, 1, 1, 0]\n",
        "]\n",
        "\n",
        "c = [0, 3, 2, 0]\n",
        "stabilize(np.array(graph),c)"
      ],
      "metadata": {
        "colab": {
          "base_uri": "https://localhost:8080/"
        },
        "id": "F4CNV96bg9ZV",
        "outputId": "c5de6eba-eaa6-40a0-dfe5-9cd1f11609bc"
      },
      "execution_count": 76,
      "outputs": [
        {
          "output_type": "execute_result",
          "data": {
            "text/plain": [
              "[1, 2, 2, 0]"
            ]
          },
          "metadata": {},
          "execution_count": 76
        }
      ]
    }
  ]
}